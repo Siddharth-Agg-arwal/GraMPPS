{
  "nbformat": 4,
  "nbformat_minor": 0,
  "metadata": {
    "colab": {
      "provenance": []
    },
    "kernelspec": {
      "name": "python3",
      "display_name": "Python 3"
    },
    "language_info": {
      "name": "python"
    }
  },
  "cells": [
    {
      "cell_type": "code",
      "source": [
        "!pip install \"granite-tsfm[notebooks]==0.2.23\""
      ],
      "metadata": {
        "collapsed": true,
        "id": "_Rs6NSXxzGNf"
      },
      "execution_count": null,
      "outputs": []
    },
    {
      "cell_type": "code",
      "source": [
        "import pandas as pd\n",
        "import torch\n",
        "from tsfm_public import TinyTimeMixerForPrediction, TimeSeriesForecastingPipeline, TimeSeriesPreprocessor\n",
        "from sklearn.preprocessing import StandardScaler\n",
        "from datasets import Dataset\n",
        "import numpy as np\n",
        "\n",
        "# Constants\n",
        "COST_PER_KWH = 8.0\n",
        "CARBON_PER_KWH = 0.82"
      ],
      "metadata": {
        "id": "zeQj-fsFzWYM"
      },
      "execution_count": null,
      "outputs": []
    },
    {
      "cell_type": "code",
      "source": [
        "df = pd.read_csv(\"train_wo_24_hr.csv\", parse_dates=[\"timestamp\"])\n",
        "df = df.rename(columns={\"target:Power\": \"total_load_actual\"})\n",
        "\n",
        "# Get last 96 hours for context\n",
        "context_df = df.sort_values(\"timestamp\").iloc[-96:].copy()\n",
        "\n",
        "# Set the forecast horizon\n",
        "horizon = 24  # change to 24*7 for a week"
      ],
      "metadata": {
        "id": "Ys1QVbm1LoiZ"
      },
      "execution_count": null,
      "outputs": []
    },
    {
      "cell_type": "code",
      "source": [
        "# Prepare the input frame\n",
        "future_index = pd.date_range(\n",
        "    start=context_df[\"timestamp\"].iloc[-1] + pd.Timedelta(hours=1),\n",
        "    periods=horizon,\n",
        "    freq=\"H\"\n",
        ")\n",
        "future_df = pd.DataFrame({\n",
        "    \"timestamp\": future_index,\n",
        "    \"total_load_actual\": pd.NA\n",
        "})\n",
        "\n",
        "input_df = pd.concat([\n",
        "    context_df[[\"timestamp\", \"total_load_actual\"]],\n",
        "    future_df\n",
        "]).reset_index(drop=True)"
      ],
      "metadata": {
        "colab": {
          "base_uri": "https://localhost:8080/"
        },
        "id": "Pm7hJ664LtTa",
        "outputId": "a96527ce-723e-47e9-caf9-fb535884e7d7"
      },
      "execution_count": null,
      "outputs": [
        {
          "output_type": "stream",
          "name": "stderr",
          "text": [
            "/tmp/ipython-input-16-2339145634.py:2: FutureWarning: 'H' is deprecated and will be removed in a future version, please use 'h' instead.\n",
            "  future_index = pd.date_range(\n",
            "/tmp/ipython-input-16-2339145634.py:12: FutureWarning: The behavior of DataFrame concatenation with empty or all-NA entries is deprecated. In a future version, this will no longer exclude empty or all-NA columns when determining the result dtypes. To retain the old behavior, exclude the relevant entries before the concat operation.\n",
            "  input_df = pd.concat([\n"
          ]
        }
      ]
    },
    {
      "cell_type": "code",
      "source": [],
      "metadata": {
        "id": "KbbFFTbRSFeN"
      },
      "execution_count": null,
      "outputs": []
    },
    {
      "cell_type": "code",
      "source": [
        "# Load model and pipeline\n",
        "device = \"cuda\" if torch.cuda.is_available() else \"cpu\"\n",
        "model = TinyTimeMixerForPrediction.from_pretrained(\n",
        "    \"ibm-granite/granite-timeseries-ttm-r2\",\n",
        "    num_input_channels=1\n",
        ")\n",
        "pipeline = TimeSeriesForecastingPipeline(\n",
        "    model=model,\n",
        "    timestamp_column=\"timestamp\",\n",
        "    id_columns=[],\n",
        "    target_columns=[\"total_load_actual\"],\n",
        "    explode_forecasts=True,\n",
        "    freq=\"h\",\n",
        "    device=device\n",
        ")"
      ],
      "metadata": {
        "colab": {
          "base_uri": "https://localhost:8080/"
        },
        "id": "uP_hgBcSLtVt",
        "outputId": "4deb40ad-6ce2-426a-b2b0-791c2e36ca7e"
      },
      "execution_count": null,
      "outputs": [
        {
          "output_type": "stream",
          "name": "stderr",
          "text": [
            "Device set to use cpu\n"
          ]
        }
      ]
    },
    {
      "cell_type": "code",
      "source": [
        "tsp = TimeSeriesPreprocessor(\n",
        "    timestamp_column=\"timestamp\",\n",
        "    id_columns=[],\n",
        "    target_columns=[\"total_load_actual\"],\n",
        "    context_length=96,\n",
        "    prediction_length=24,\n",
        "    scaling=True,\n",
        "    scaling_type=\"standard\"\n",
        ")\n",
        "\n",
        "# 2) Train on your full dataset\n",
        "train_ds = Dataset.from_pandas(df, preserve_index=False)\n",
        "tsp.train(train_ds)"
      ],
      "metadata": {
        "colab": {
          "base_uri": "https://localhost:8080/"
        },
        "collapsed": true,
        "id": "eb8NuBoGLtYD",
        "outputId": "6b86f8ce-c639-462d-ac32-4ad5b629d747"
      },
      "execution_count": null,
      "outputs": [
        {
          "output_type": "execute_result",
          "data": {
            "text/plain": [
              "TimeSeriesPreprocessor {\n",
              "  \"categorical_columns\": [],\n",
              "  \"categorical_encoder\": null,\n",
              "  \"conditional_columns\": [],\n",
              "  \"context_length\": 96,\n",
              "  \"control_columns\": [],\n",
              "  \"encode_categorical\": true,\n",
              "  \"feature_extractor_type\": \"TimeSeriesPreprocessor\",\n",
              "  \"freq\": \"0 days 01:00:00\",\n",
              "  \"frequency_mapping\": {\n",
              "    \"10min\": 4,\n",
              "    \"15min\": 5,\n",
              "    \"2min\": 2,\n",
              "    \"30min\": 6,\n",
              "    \"5min\": 3,\n",
              "    \"D\": 8,\n",
              "    \"H\": 7,\n",
              "    \"W\": 9,\n",
              "    \"d\": 8,\n",
              "    \"h\": 7,\n",
              "    \"min\": 1,\n",
              "    \"oov\": 0\n",
              "  },\n",
              "  \"id_columns\": [],\n",
              "  \"observable_columns\": [],\n",
              "  \"prediction_length\": 24,\n",
              "  \"processor_class\": \"TimeSeriesPreprocessor\",\n",
              "  \"scale_categorical_columns\": true,\n",
              "  \"scaler_dict\": {},\n",
              "  \"scaler_type\": \"standard\",\n",
              "  \"scaling\": true,\n",
              "  \"scaling_id_columns\": [],\n",
              "  \"scaling_type\": \"standard\",\n",
              "  \"static_categorical_columns\": [],\n",
              "  \"target_columns\": [\n",
              "    \"total_load_actual\"\n",
              "  ],\n",
              "  \"target_scaler_dict\": {\n",
              "    \"0\": {\n",
              "      \"copy\": true,\n",
              "      \"feature_names_in_\": [\n",
              "        \"total_load_actual\"\n",
              "      ],\n",
              "      \"mean_\": [\n",
              "        36303.524480160646\n",
              "      ],\n",
              "      \"n_features_in_\": 1,\n",
              "      \"n_samples_seen_\": 17485,\n",
              "      \"scale_\": [\n",
              "        13561.289899340543\n",
              "      ],\n",
              "      \"var_\": [\n",
              "        183908583.73395586\n",
              "      ],\n",
              "      \"with_mean\": true,\n",
              "      \"with_std\": true\n",
              "    }\n",
              "  },\n",
              "  \"time_series_task\": \"forecasting\",\n",
              "  \"timestamp_column\": \"timestamp\"\n",
              "}"
            ]
          },
          "metadata": {},
          "execution_count": 18
        }
      ]
    },
    {
      "cell_type": "code",
      "source": [
        "# Estimation\n",
        "def estimate_cost(values): return sum(values) * COST_PER_KWH\n",
        "def estimate_carbon(values): return sum(values) * CARBON_PER_KWH\n",
        "def estimate_from_forecast(forecast_df):\n",
        "    values = forecast_df[\"forecasted_power\"].tolist()\n",
        "    return {\n",
        "        \"cost\": estimate_cost(values),\n",
        "        \"carbon\": estimate_carbon(values)\n",
        "    }"
      ],
      "metadata": {
        "id": "PK2eu0GIL1rN"
      },
      "execution_count": null,
      "outputs": []
    },
    {
      "cell_type": "code",
      "source": [
        "# metrics = estimate_from_forecast(forecast_df)\n",
        "\n",
        "# # Output\n",
        "# print(forecast_df)\n",
        "# print(metrics)"
      ],
      "metadata": {
        "id": "ckH72jjBL1tQ"
      },
      "execution_count": null,
      "outputs": []
    },
    {
      "cell_type": "code",
      "source": [
        "def forecast_energy(df, periods: int = 12, freq: str = \"5min\") -> pd.DataFrame:\n",
        "    # 1) Normalize freq so Timedelta always sees a number\n",
        "    freq_str = freq if freq[0].isdigit() else f\"1{freq}\"\n",
        "    delta = pd.Timedelta(freq_str)\n",
        "\n",
        "    # 2) Pull last 96 hours of history\n",
        "    context_df = df.sort_values(\"timestamp\").copy()\n",
        "    context_window = int(pd.Timedelta(hours=96) / delta)\n",
        "    history = context_df.iloc[-context_window:].copy()\n",
        "\n",
        "    # === 🔥 Normalize history ===\n",
        "    mean = history[\"total_load_actual\"].mean()\n",
        "    std = history[\"total_load_actual\"].std()\n",
        "    history[\"total_load_actual\"] = (history[\"total_load_actual\"] - mean) / std\n",
        "\n",
        "    # 3) Build future timestamps\n",
        "    future_index = pd.date_range(\n",
        "        start=history[\"timestamp\"].iloc[-1] + delta,\n",
        "        periods=periods,\n",
        "        freq=freq_str\n",
        "    )\n",
        "    future_df = pd.DataFrame({\n",
        "        \"timestamp\": future_index,\n",
        "        \"total_load_actual\": pd.NA\n",
        "    })\n",
        "\n",
        "    # 4) Combine context + future\n",
        "    inp = pd.concat([\n",
        "        history[[\"timestamp\", \"total_load_actual\"]],\n",
        "        future_df[[\"timestamp\", \"total_load_actual\"]]\n",
        "    ], ignore_index=True)\n",
        "\n",
        "    # 5) Run the pipeline\n",
        "    results = pipeline(inp)\n",
        "\n",
        "    # 6) Extract and denormalize predictions\n",
        "    forecast_df = results.tail(periods).rename(\n",
        "        columns={\"total_load_actual\": \"forecasted_power\"}\n",
        "    )\n",
        "    forecast_df[\"forecasted_power\"] = forecast_df[\"forecasted_power\"] * std + mean  # 🧠 Denormalize\n",
        "\n",
        "    return forecast_df"
      ],
      "metadata": {
        "id": "xpkkItIPNpYn"
      },
      "execution_count": null,
      "outputs": []
    },
    {
      "cell_type": "code",
      "source": [],
      "metadata": {
        "id": "JD2Z0F4SDycj"
      },
      "execution_count": null,
      "outputs": []
    },
    {
      "cell_type": "code",
      "source": [
        "import matplotlib.pyplot as plt\n",
        "\n",
        "def plot_forecast(df, title):\n",
        "    plt.figure(figsize=(12, 4))\n",
        "    plt.plot(df[\"timestamp\"], df[\"forecasted_power\"], label=\"Forecast\", marker=\"o\")\n",
        "    plt.xticks(rotation=45)\n",
        "    plt.title(title)\n",
        "    plt.xlabel(\"Timestamp\")\n",
        "    plt.ylabel(\"Power (kW)\")\n",
        "    plt.grid(True)\n",
        "    plt.tight_layout()\n",
        "    plt.legend()\n",
        "    plt.show()\n"
      ],
      "metadata": {
        "id": "oKyM4cJNNzZY"
      },
      "execution_count": null,
      "outputs": []
    },
    {
      "cell_type": "code",
      "source": [
        "forecast_5min  = forecast_energy(df, periods=12,       freq=\"5min\")\n",
        "forecast_hour  = forecast_energy(df, periods=1,        freq=\"h\")    # now works!\n",
        "forecast_day   = forecast_energy(df, periods=24,       freq=\"h\")\n",
        "forecast_week  = forecast_energy(df, periods=24 * 7,   freq=\"h\")\n",
        "print(forecast_day)\n",
        "\n",
        "# metrics_5min = estimate_from_forecast(forecast_5min)\n",
        "# metrics_hour = estimate_from_forecast(forecast_hour)\n",
        "# metrics_day  = estimate_from_forecast(forecast_day)\n",
        "# metrics_week = estimate_from_forecast(forecast_week)\n",
        "\n",
        "plot_forecast(forecast_5min, \"Forecast - Next Hour (5-min)\")\n",
        "plot_forecast(forecast_hour, \"Forecast - Next Hour\")\n",
        "plot_forecast(forecast_day,  \"Forecast - Next Day\")\n",
        "plot_forecast(forecast_week, \"Forecast - Next Week\")"
      ],
      "metadata": {
        "collapsed": true,
        "id": "PUVCUQigNzWt"
      },
      "execution_count": null,
      "outputs": []
    },
    {
      "cell_type": "code",
      "source": [],
      "metadata": {
        "id": "swA_GyJmPn6W"
      },
      "execution_count": null,
      "outputs": []
    },
    {
      "cell_type": "code",
      "source": [],
      "metadata": {
        "id": "I0hUJg36Pn-R"
      },
      "execution_count": null,
      "outputs": []
    },
    {
      "cell_type": "code",
      "source": [
        "import pandas as pd\n",
        "\n",
        "def compare_forecast(df: pd.DataFrame, pipeline, period: int = 24, freq: str = \"h\") -> pd.DataFrame:\n",
        "    # 1. Ensure UTC\n",
        "    if df[\"timestamp\"].dt.tz is None:\n",
        "        df[\"timestamp\"] = df[\"timestamp\"].dt.tz_localize(\"UTC\")\n",
        "    else:\n",
        "        df[\"timestamp\"] = df[\"timestamp\"].dt.tz_convert(\"UTC\")\n",
        "\n",
        "    # 2. Split actual vs train\n",
        "    df_sorted = df.sort_values(\"timestamp\").reset_index(drop=True)\n",
        "    actual_df = df_sorted.iloc[-period:][[\"timestamp\",\"total_load_actual\"]].copy()\n",
        "    train_df  = df_sorted.iloc[:-period].reset_index(drop=True)\n",
        "\n",
        "    # 3. Build context + placeholders\n",
        "    context = train_df.iloc[-96:][[\"timestamp\",\"total_load_actual\"]]\n",
        "    delta = pd.Timedelta(f\"1{freq}\" if not freq[0].isdigit() else freq)\n",
        "    future_idx = pd.date_range(\n",
        "        start=context[\"timestamp\"].iloc[-1] + delta,\n",
        "        periods=period,\n",
        "        freq=freq,\n",
        "        tz=\"UTC\"\n",
        "    )\n",
        "    future_df = pd.DataFrame({\n",
        "        \"timestamp\": future_idx,\n",
        "        \"total_load_actual\": pd.NA\n",
        "    })\n",
        "\n",
        "    inp = pd.concat([context, future_df], ignore_index=True)\n",
        "\n",
        "    # 4. Run pipeline\n",
        "    results = pipeline(inp)\n",
        "\n",
        "    preds = forecast_energy(context_96, periods=period, freq=freq)\n",
        "\n",
        "    # preds_norm is the tiny values you saw\n",
        "    preds_norm = preds[\"total_load_actual\"].values\n",
        "\n",
        "    # Denormalize\n",
        "    preds_denorm = tsp.inverse_transform(preds_norm, column=\"total_load_actual\")\n",
        "\n",
        "    # Replace\n",
        "    preds[\"forecasted_power\"] = preds_denorm\n",
        "\n",
        "    # 5. Extract just the last `period` predictions\n",
        "    preds = results.tail(period)[[\"timestamp\",\"total_load_actual\"]].rename(\n",
        "        columns={\"total_load_actual\":\"forecasted_power\"}\n",
        "    )\n",
        "\n",
        "    # DEBUG: inspect slices\n",
        "    print(\"=== DEBUG: Actual Slice ===\")\n",
        "    print(actual_df.tail(5))\n",
        "    print(\"\\n=== DEBUG: Predicted Slice ===\")\n",
        "    print(preds.tail(5))\n",
        "\n",
        "    # 6. Rename actuals\n",
        "    actual_df_loc = actual_df.rename(columns={\"total_load_actual\":\"actual_power\"})[['timestamp','actual_power']]\n",
        "\n",
        "    # DEBUG: inspect before merge\n",
        "    print(\"\\n=== DEBUG: Before merge ===\")\n",
        "    print(actual_df_loc.head())\n",
        "    print(preds.head())\n",
        "\n",
        "    # 7. Merge on timestamp\n",
        "    comparison_df = pd.merge(\n",
        "        actual_df_loc, preds,\n",
        "        on=\"timestamp\", how=\"inner\"\n",
        "    )\n",
        "\n",
        "    print(\"\\n=== DEBUG: After merge ===\")\n",
        "    print(comparison_df.head())\n",
        "\n",
        "    return comparison_df\n"
      ],
      "metadata": {
        "id": "x1fdcTFmIlfm"
      },
      "execution_count": null,
      "outputs": []
    },
    {
      "cell_type": "code",
      "source": [
        "# # 1. Prepare actuals and context\n",
        "# df_sorted = df.sort_values(\"timestamp\").reset_index(drop=True)\n",
        "# actual_24 = df_sorted.iloc[-24:].copy()   # actual Oct 31 00:00 → Oct 31 23:00\n",
        "\n",
        "# # Take the 96 rows immediately before those 24 as context\n",
        "# context_96 = df_sorted.iloc[-(24 + 96) : -24].copy()\n",
        "\n",
        "# # 2. Forecast next 24h from that context\n",
        "# pred_24 = forecast_energy(context_96, periods=24, freq=\"h\")\n",
        "\n",
        "# # 3. Combine actual vs. predicted into a single table\n",
        "# comparison = pd.DataFrame({\n",
        "#     \"timestamp\": actual_24[\"timestamp\"].values,\n",
        "#     \"actual_power\": actual_24[\"total_load_actual\"].values,\n",
        "#     \"forecasted_power\": pred_24[\"forecasted_power\"].values\n",
        "# })\n",
        "\n",
        "# # 4. Plot\n",
        "# plot_comparison(comparison, \"Actual vs Forecast – Last 24h\")\n",
        "\n",
        "# # 5. Inspect\n",
        "# print(comparison)\n"
      ],
      "metadata": {
        "id": "UvWC4xesJv22"
      },
      "execution_count": null,
      "outputs": []
    },
    {
      "cell_type": "code",
      "source": [
        "def get_threshold_base(hour: int) -> float:\n",
        "    \"\"\"\n",
        "    Return threshold base (buffer) in kW for a given hour of the day.\n",
        "    \"\"\"\n",
        "    if 0 <= hour < 6:      # Early morning (midnight–6 AM)\n",
        "        return 1000\n",
        "    elif 6 <= hour < 8:    # Wake-up hours\n",
        "        return 1500\n",
        "    elif 8 <= hour < 12:   # Morning rush\n",
        "        return 2000\n",
        "    elif 12 <= hour < 14:  # Lunch hours\n",
        "        return 3000\n",
        "    elif 14 <= hour < 18:  # Afternoon work spike\n",
        "        return 5000\n",
        "    elif 18 <= hour < 21:  # Evening activity\n",
        "        return 4000\n",
        "    elif 21 <= hour < 24:  # Wind-down/night prep\n",
        "        return 2500\n",
        "    else:\n",
        "        return 1000  # Fallback"
      ],
      "metadata": {
        "id": "aBIln_4wIliO"
      },
      "execution_count": null,
      "outputs": []
    },
    {
      "cell_type": "code",
      "source": [
        "def apply_thresholds(forecast_df: pd.DataFrame) -> pd.DataFrame:\n",
        "    forecast_df = forecast_df.copy()\n",
        "    forecast_df[\"hour\"] = forecast_df[\"timestamp\"].dt.hour\n",
        "    forecast_df[\"threshold_base\"] = forecast_df[\"hour\"].apply(get_threshold_base)\n",
        "    forecast_df[\"threshold\"] = forecast_df[\"forecasted_power\"] + forecast_df[\"threshold_base\"]\n",
        "    return forecast_df.drop(columns=[\"hour\"])\n"
      ],
      "metadata": {
        "id": "m7H9Vy0fIlkf"
      },
      "execution_count": null,
      "outputs": []
    },
    {
      "cell_type": "code",
      "source": [
        "# Step 1: Forecast for next day\n",
        "forecast_day = forecast_energy(df, periods=24, freq=\"h\")\n",
        "\n",
        "# Step 2: Apply time-based threshold logic\n",
        "forecast_with_thresholds = apply_thresholds(forecast_day)\n",
        "\n",
        "# Display\n",
        "print(forecast_with_thresholds.head())\n"
      ],
      "metadata": {
        "id": "jR3C8N2GIlmo"
      },
      "execution_count": null,
      "outputs": []
    },
    {
      "cell_type": "code",
      "source": [
        "def plot_thresholds(df):\n",
        "    plt.figure(figsize=(12, 5))\n",
        "    plt.plot(df[\"timestamp\"], df[\"forecasted_power\"], label=\"Forecast\", marker=\"o\")\n",
        "    plt.plot(df[\"timestamp\"], df[\"threshold\"], label=\"Threshold\", linestyle=\"--\", color=\"red\")\n",
        "    plt.xticks(rotation=45)\n",
        "    plt.title(\"Forecast vs Dynamic Threshold\")\n",
        "    plt.ylabel(\"Power (kW)\")\n",
        "    plt.grid(True)\n",
        "    plt.legend()\n",
        "    plt.tight_layout()\n",
        "    plt.show()"
      ],
      "metadata": {
        "id": "w63DTfgdZI9-"
      },
      "execution_count": null,
      "outputs": []
    },
    {
      "cell_type": "code",
      "source": [
        "plot_thresholds(forecast_with_thresholds)"
      ],
      "metadata": {
        "id": "8C0NfK3vIlpE"
      },
      "execution_count": null,
      "outputs": []
    },
    {
      "cell_type": "code",
      "source": [],
      "metadata": {
        "id": "9lZr7fcpKbvh"
      },
      "execution_count": null,
      "outputs": []
    },
    {
      "cell_type": "code",
      "source": [],
      "metadata": {
        "id": "BMBhbVcmFn9E"
      },
      "execution_count": null,
      "outputs": []
    },
    {
      "cell_type": "code",
      "source": [
        "def calculate_cost_and_carbon(actual_power, forecasted_power):\n",
        "    # Constants\n",
        "    COST_PER_KWH = 8.0         # INR\n",
        "    CARBON_PER_KWH = 0.82      # kg CO2\n",
        "\n",
        "    # Sums\n",
        "    total_actual_kwh = sum(actual_power)\n",
        "    total_forecast_kwh = sum(forecasted_power)\n",
        "\n",
        "    # Cost\n",
        "    actual_cost = total_actual_kwh * COST_PER_KWH\n",
        "    forecast_cost = total_forecast_kwh * COST_PER_KWH\n",
        "\n",
        "    # Carbon\n",
        "    actual_carbon = total_actual_kwh * CARBON_PER_KWH\n",
        "    forecast_carbon = total_forecast_kwh * CARBON_PER_KWH\n",
        "\n",
        "    # Print\n",
        "    print(\"=== Energy & Impact Comparison ===\")\n",
        "    print(f\"Total Actual Energy:       {total_actual_kwh:,.2f} kWh\")\n",
        "    print(f\"Total Forecasted Energy:   {total_forecast_kwh:,.2f} kWh\\n\")\n",
        "\n",
        "    print(f\"Actual Cost:               ₹{actual_cost:,.2f}\")\n",
        "    print(f\"Forecasted Cost:           ₹{forecast_cost:,.2f}\\n\")\n",
        "\n",
        "    print(f\"Actual Carbon Emission:    {actual_carbon:,.2f} kg CO₂\")\n",
        "    print(f\"Forecasted Carbon Emission:{forecast_carbon:,.2f} kg CO₂\")"
      ],
      "metadata": {
        "id": "SolhdF1cGr7K"
      },
      "execution_count": null,
      "outputs": []
    },
    {
      "cell_type": "code",
      "source": [
        "actual_power = [\n",
        "    19785.838216, 20002.627230, 20762.242276, 20996.101291, 20973.910289,\n",
        "    20057.251233, 19142.299177, 35486.825182, 38033.669338, 38960.570395,\n",
        "    40059.878463, 40534.424492, 37946.612333, 36522.974245, 40664.156500,\n",
        "    40640.258498, 42410.417607, 42579.410618, 41311.109540, 32200.849980,\n",
        "    22776.502400, 20200.639242, 20915.872286, 20598.370266\n",
        "]\n",
        "\n",
        "forecasted_power = [\n",
        "    28145.894967, 27951.964851, 28005.988331, 27932.182476, 27958.055113,\n",
        "    27908.063369, 27936.795245, 28752.266505, 30259.624567, 30951.488248,\n",
        "    31388.198162, 31472.945875, 31248.456557, 30928.298685, 30862.596703,\n",
        "    30813.779481, 31042.127407, 31151.716626, 31011.434467, 30090.836720,\n",
        "    29053.361053, 28590.830346, 28453.818912, 28415.646804\n",
        "]\n",
        "\n",
        "calculate_cost_and_carbon(actual_power, forecasted_power)\n"
      ],
      "metadata": {
        "colab": {
          "base_uri": "https://localhost:8080/"
        },
        "collapsed": true,
        "id": "1KPWXvRy3iqf",
        "outputId": "9b9409b6-3d49-46e8-9611-bc45d3759d94"
      },
      "execution_count": null,
      "outputs": [
        {
          "output_type": "stream",
          "name": "stdout",
          "text": [
            "=== Energy & Impact Comparison ===\n",
            "Total Actual Energy:       733,562.81 kWh\n",
            "Total Forecasted Energy:   710,326.37 kWh\n",
            "\n",
            "Actual Cost:               ₹5,868,502.49\n",
            "Forecasted Cost:           ₹5,682,610.97\n",
            "\n",
            "Actual Carbon Emission:    601,521.51 kg CO₂\n",
            "Forecasted Carbon Emission:582,467.62 kg CO₂\n"
          ]
        }
      ]
    },
    {
      "cell_type": "code",
      "source": [],
      "metadata": {
        "id": "0CwQrUA1I20I"
      },
      "execution_count": null,
      "outputs": []
    },
    {
      "cell_type": "code",
      "source": [
        "from tsfm_public import TimeSeriesForecastingPipeline\n",
        "\n",
        "pipeline_5min = TimeSeriesForecastingPipeline(\n",
        "    model=model,\n",
        "    timestamp_column=\"timestamp\",\n",
        "    id_columns=[],\n",
        "    target_columns=[\"total_load_actual\"],\n",
        "    explode_forecasts=True,\n",
        "    freq=\"5min\",          # ← critical: 5-minute intervals\n",
        "    device=device\n",
        ")"
      ],
      "metadata": {
        "colab": {
          "base_uri": "https://localhost:8080/"
        },
        "id": "jYdvD6tdI25M",
        "outputId": "71ba1580-a34d-45b1-8c82-23b798e2f4a8"
      },
      "execution_count": null,
      "outputs": [
        {
          "output_type": "stream",
          "name": "stderr",
          "text": [
            "Device set to use cpu\n"
          ]
        }
      ]
    },
    {
      "cell_type": "code",
      "source": [
        "import pandas as pd\n",
        "import matplotlib.pyplot as plt\n",
        "from tsfm_public import TimeSeriesForecastingPipeline\n",
        "\n",
        "def predict_2day_5min_continuous(csv_file, model, device, output_csv=\"two_day_5min.csv\"):\n",
        "    # 1) Load & rename\n",
        "    df = pd.read_csv(csv_file, parse_dates=[\"timestamp\"])\n",
        "    df.rename(columns={\"target:Power\": \"total_load_actual\"}, inplace=True)\n",
        "    df = df.sort_values(\"timestamp\").reset_index(drop=True)\n",
        "\n",
        "    # 2) Compute sizes\n",
        "    freq = \"5min\"\n",
        "    delta = pd.Timedelta(freq)\n",
        "    total_days = 2\n",
        "    total_periods = int(pd.Timedelta(days=total_days) / delta)  # 576\n",
        "    chunk_size = 96                                            # model max\n",
        "    chunks = (total_periods + chunk_size - 1) // chunk_size   # =6\n",
        "\n",
        "    # 3) Extract & normalize context (last 96h = 1152 points)\n",
        "    context_points = int(pd.Timedelta(hours=96) / delta)\n",
        "    context_df = df.iloc[-context_points:].copy()\n",
        "    μ, σ = context_df[\"total_load_actual\"].mean(), context_df[\"total_load_actual\"].std()\n",
        "    context_df[\"total_load_actual\"] = (context_df[\"total_load_actual\"] - μ) / σ\n",
        "\n",
        "    all_preds = []\n",
        "    last_ts = context_df[\"timestamp\"].iloc[-1]\n",
        "\n",
        "    for c in range(chunks):\n",
        "        # how many to forecast this chunk\n",
        "        remain = total_periods - c * chunk_size\n",
        "        h = min(chunk_size, remain)\n",
        "\n",
        "        # build pipeline for this chunk\n",
        "        pipe = TimeSeriesForecastingPipeline(\n",
        "            model=model,\n",
        "            timestamp_column=\"timestamp\",\n",
        "            id_columns=[],\n",
        "            target_columns=[\"total_load_actual\"],\n",
        "            explode_forecasts=False,\n",
        "            freq=freq,\n",
        "            device=device,\n",
        "            prediction_length=h,\n",
        "        )\n",
        "\n",
        "        # build future placeholders\n",
        "        future_idx = pd.date_range(\n",
        "            start=last_ts + delta,\n",
        "            periods=h,\n",
        "            freq=freq,\n",
        "            tz=last_ts.tz\n",
        "        )\n",
        "        future_df = pd.DataFrame({\n",
        "            \"timestamp\": future_idx,\n",
        "            \"total_load_actual\": pd.NA\n",
        "        })\n",
        "\n",
        "        # one‐shot forecast for h steps\n",
        "        inp = pd.concat([\n",
        "            context_df[[\"timestamp\",\"total_load_actual\"]],\n",
        "            future_df\n",
        "        ], ignore_index=True)\n",
        "        res = pipe(inp)\n",
        "\n",
        "        # extract, denormalize, store\n",
        "        preds = res[\"total_load_actual_prediction\"].iloc[-1]  # list of len h\n",
        "        series = pd.Series(preds, index=future_idx)\n",
        "        series = series * σ + μ\n",
        "        all_preds.append(series)\n",
        "\n",
        "        # extend context_df with normalized predictions for next chunk\n",
        "        new_context = series.to_frame(name=\"total_load_actual\")\n",
        "        new_context[\"total_load_actual\"] = (new_context[\"total_load_actual\"] - μ) / σ\n",
        "        new_context = new_context.reset_index().rename(columns={\"index\":\"timestamp\"})\n",
        "        context_df = pd.concat([context_df, new_context], ignore_index=True)\n",
        "\n",
        "        last_ts = future_idx[-1]\n",
        "\n",
        "        print(f\"⏳ Completed chunk {c+1}/{chunks} ({h} steps)\")\n",
        "\n",
        "    # 4) Combine all predictions\n",
        "    full = pd.concat(all_preds)\n",
        "    forecast_df = full.rename(\"forecasted_power\").reset_index()\n",
        "    forecast_df.columns = [\"timestamp\",\"forecasted_power\"]\n",
        "\n",
        "    # 5) Save & plot\n",
        "    forecast_df.to_csv(output_csv, index=False)\n",
        "    print(f\"✅ Saved forecast to {output_csv}\")\n",
        "\n",
        "    plt.figure(figsize=(14,4))\n",
        "    plt.plot(forecast_df[\"timestamp\"], forecast_df[\"forecasted_power\"], linewidth=0.8)\n",
        "    plt.title(\"2-Day Forecast @ 5-min Intervals\")\n",
        "    plt.xlabel(\"Timestamp\")\n",
        "    plt.ylabel(\"Forecasted Power\")\n",
        "    plt.xticks(rotation=45)\n",
        "    plt.grid(True)\n",
        "    plt.tight_layout()\n",
        "    plt.show()\n",
        "\n",
        "    return forecast_df"
      ],
      "metadata": {
        "id": "iCUCJz7NI28y"
      },
      "execution_count": null,
      "outputs": []
    },
    {
      "cell_type": "code",
      "source": [
        "forecast_2d_5min = predict_2day_5min_continuous(\n",
        "    \"train_wo_24_hr.csv\",\n",
        "    model,\n",
        "    device\n",
        ")"
      ],
      "metadata": {
        "colab": {
          "base_uri": "https://localhost:8080/",
          "height": 768
        },
        "id": "pwKuHlGA3iz3",
        "outputId": "f8f8b210-92ba-4b41-9163-3ad562dab003"
      },
      "execution_count": null,
      "outputs": [
        {
          "output_type": "stream",
          "name": "stderr",
          "text": [
            "Device set to use cpu\n",
            "/tmp/ipython-input-77-2709755772.py:58: FutureWarning: The behavior of DataFrame concatenation with empty or all-NA entries is deprecated. In a future version, this will no longer exclude empty or all-NA columns when determining the result dtypes. To retain the old behavior, exclude the relevant entries before the concat operation.\n",
            "  inp = pd.concat([\n",
            "Device set to use cpu\n"
          ]
        },
        {
          "output_type": "stream",
          "name": "stdout",
          "text": [
            "⏳ Completed chunk 1/6 (96 steps)\n"
          ]
        },
        {
          "output_type": "stream",
          "name": "stderr",
          "text": [
            "/tmp/ipython-input-77-2709755772.py:58: FutureWarning: The behavior of DataFrame concatenation with empty or all-NA entries is deprecated. In a future version, this will no longer exclude empty or all-NA columns when determining the result dtypes. To retain the old behavior, exclude the relevant entries before the concat operation.\n",
            "  inp = pd.concat([\n",
            "Device set to use cpu\n"
          ]
        },
        {
          "output_type": "stream",
          "name": "stdout",
          "text": [
            "⏳ Completed chunk 2/6 (96 steps)\n"
          ]
        },
        {
          "output_type": "stream",
          "name": "stderr",
          "text": [
            "/tmp/ipython-input-77-2709755772.py:58: FutureWarning: The behavior of DataFrame concatenation with empty or all-NA entries is deprecated. In a future version, this will no longer exclude empty or all-NA columns when determining the result dtypes. To retain the old behavior, exclude the relevant entries before the concat operation.\n",
            "  inp = pd.concat([\n",
            "Device set to use cpu\n"
          ]
        },
        {
          "output_type": "stream",
          "name": "stdout",
          "text": [
            "⏳ Completed chunk 3/6 (96 steps)\n"
          ]
        },
        {
          "output_type": "stream",
          "name": "stderr",
          "text": [
            "/tmp/ipython-input-77-2709755772.py:58: FutureWarning: The behavior of DataFrame concatenation with empty or all-NA entries is deprecated. In a future version, this will no longer exclude empty or all-NA columns when determining the result dtypes. To retain the old behavior, exclude the relevant entries before the concat operation.\n",
            "  inp = pd.concat([\n",
            "Device set to use cpu\n"
          ]
        },
        {
          "output_type": "stream",
          "name": "stdout",
          "text": [
            "⏳ Completed chunk 4/6 (96 steps)\n"
          ]
        },
        {
          "output_type": "stream",
          "name": "stderr",
          "text": [
            "/tmp/ipython-input-77-2709755772.py:58: FutureWarning: The behavior of DataFrame concatenation with empty or all-NA entries is deprecated. In a future version, this will no longer exclude empty or all-NA columns when determining the result dtypes. To retain the old behavior, exclude the relevant entries before the concat operation.\n",
            "  inp = pd.concat([\n",
            "Device set to use cpu\n"
          ]
        },
        {
          "output_type": "stream",
          "name": "stdout",
          "text": [
            "⏳ Completed chunk 5/6 (96 steps)\n"
          ]
        },
        {
          "output_type": "stream",
          "name": "stderr",
          "text": [
            "/tmp/ipython-input-77-2709755772.py:58: FutureWarning: The behavior of DataFrame concatenation with empty or all-NA entries is deprecated. In a future version, this will no longer exclude empty or all-NA columns when determining the result dtypes. To retain the old behavior, exclude the relevant entries before the concat operation.\n",
            "  inp = pd.concat([\n"
          ]
        },
        {
          "output_type": "stream",
          "name": "stdout",
          "text": [
            "⏳ Completed chunk 6/6 (96 steps)\n",
            "✅ Saved forecast to two_day_5min.csv\n"
          ]
        },
        {
          "output_type": "display_data",
          "data": {
            "text/plain": [
              "<Figure size 1400x400 with 1 Axes>"
            ],
            "image/png": "[encoded data removed]"
          },
          "metadata": {}
        }
      ]
    },
    {
      "cell_type": "code",
      "source": [
        "# === Debug: inspect your 5-min context before forecasting ===\n",
        "print(\"=== Context Data Sample ===\")\n",
        "print(context_df.tail(5))             # Last 5 rows of raw input\n",
        "print(\"\\n=== Context Data Stats ===\")\n",
        "print(context_df[\"total_load_actual\"].describe())  # min/mean/std/max\n",
        "\n",
        "# Now run your forecast\n",
        "results = pipeline_5min(context_df_and_future)"
      ],
      "metadata": {
        "colab": {
          "base_uri": "https://localhost:8080/",
          "height": 626
        },
        "id": "aiJgOhd7SEnt",
        "outputId": "d235f47a-3f91-40b2-c73f-859a24d670a4"
      },
      "execution_count": null,
      "outputs": [
        {
          "output_type": "stream",
          "name": "stdout",
          "text": [
            "=== Context Data Sample ===\n",
            "                      timestamp  total_load_actual  exog:IsHoliday  exog:Hour  \\\n",
            "17480 2017-10-30 19:00:00+00:00       34353.377112           False         19   \n",
            "17481 2017-10-30 20:00:00+00:00       22160.275362           False         20   \n",
            "17482 2017-10-30 21:00:00+00:00       20931.235287           False         21   \n",
            "17483 2017-10-30 22:00:00+00:00       21429.679317           False         22   \n",
            "17484 2017-10-30 23:00:00+00:00       20944.891288           False         23   \n",
            "\n",
            "       exog:DayOfWeek  exog:SimOccupancy  exog:OutdoorTemp  exog:TempDiff  \n",
            "17480               0                0.5         17.840000       0.160000  \n",
            "17481               0                0.5         17.000000       1.000000  \n",
            "17482               0                0.2         16.666667       1.333333  \n",
            "17483               0                0.2         16.780000       1.220000  \n",
            "17484               0                0.2         16.333333       1.666667  \n",
            "\n",
            "=== Context Data Stats ===\n",
            "count       96.000000\n",
            "mean     29999.948954\n",
            "std      10448.145726\n",
            "min      18828.211158\n",
            "25%      20631.656768\n",
            "50%      22902.820408\n",
            "75%      41241.976035\n",
            "max      46922.018885\n",
            "Name: total_load_actual, dtype: float64\n"
          ]
        },
        {
          "output_type": "error",
          "ename": "NameError",
          "evalue": "name 'context_df_and_future' is not defined",
          "traceback": [
            "\u001b[0;31m---------------------------------------------------------------------------\u001b[0m",
            "\u001b[0;31mNameError\u001b[0m                                 Traceback (most recent call last)",
            "\u001b[0;32m/tmp/ipython-input-61-2058057172.py\u001b[0m in \u001b[0;36m<cell line: 0>\u001b[0;34m()\u001b[0m\n\u001b[1;32m      6\u001b[0m \u001b[0;34m\u001b[0m\u001b[0m\n\u001b[1;32m      7\u001b[0m \u001b[0;31m# Now run your forecast\u001b[0m\u001b[0;34m\u001b[0m\u001b[0;34m\u001b[0m\u001b[0m\n\u001b[0;32m----> 8\u001b[0;31m \u001b[0mresults\u001b[0m \u001b[0;34m=\u001b[0m \u001b[0mpipeline_5min\u001b[0m\u001b[0;34m(\u001b[0m\u001b[0mcontext_df_and_future\u001b[0m\u001b[0;34m)\u001b[0m\u001b[0;34m\u001b[0m\u001b[0;34m\u001b[0m\u001b[0m\n\u001b[0m",
            "\u001b[0;31mNameError\u001b[0m: name 'context_df_and_future' is not defined"
          ]
        }
      ]
    },
    {
      "cell_type": "code",
      "source": [],
      "metadata": {
        "id": "Y7jmQ7AYSEqs"
      },
      "execution_count": null,
      "outputs": []
    },
    {
      "cell_type": "code",
      "source": [],
      "metadata": {
        "id": "pjoG7V2NSEtF"
      },
      "execution_count": null,
      "outputs": []
    },
    {
      "cell_type": "code",
      "source": [],
      "metadata": {
        "id": "juOU7_BtSEvP"
      },
      "execution_count": null,
      "outputs": []
    },
    {
      "cell_type": "code",
      "source": [],
      "metadata": {
        "id": "RMrKxaGeSExm"
      },
      "execution_count": null,
      "outputs": []
    },
    {
      "cell_type": "code",
      "source": [
        "# # 1. Load Preprocessor\n",
        "# tsp = TimeSeriesPreprocessor(\n",
        "#     timestamp_column=\"timestamp\",\n",
        "#     id_columns=[],\n",
        "#     target_columns=[\"value1\"],\n",
        "#     control_columns=[\n",
        "#         \"exog:IsHoliday\", \"exog:Hour\", \"exog:DayOfWeek\",\n",
        "#         \"exog:SimOccupancy\", \"exog:OutdoorTemp\", \"exog:TempDiff\"\n",
        "#     ],\n",
        "#     context_length=96,\n",
        "#     prediction_length=24,\n",
        "#     scaling=True,\n",
        "#     scaling_type=\"standard\"\n",
        "# )\n",
        "\n",
        "# # 2. Load Model\n",
        "# model = TinyTimeMixerForPrediction.from_pretrained(\n",
        "#     \"ibm-granite/granite-timeseries-ttm-r2\",\n",
        "#     num_input_channels=tsp.num_input_channels,\n",
        "#     prediction_channel_indices=tsp.prediction_channel_indices,\n",
        "#     exogenous_channel_indices=tsp.exogenous_channel_indices,\n",
        "#     decoder_mode=\"mix_channel\"\n",
        "# )\n",
        "# model.eval()"
      ],
      "metadata": {
        "collapsed": true,
        "id": "oYIrJMS13eO8"
      },
      "execution_count": null,
      "outputs": []
    },
    {
      "cell_type": "code",
      "source": [
        "# from datasets import Dataset\n",
        "\n",
        "# def forecast_day(df_recent: pd.DataFrame):\n",
        "#     \"\"\"\n",
        "#     Forecast next 24 hours using the latest 96 hours of data.\n",
        "#     Assumes tsp and model are already loaded and ready.\n",
        "#     \"\"\"\n",
        "#     from datasets import Dataset\n",
        "\n",
        "#     # Convert to HuggingFace Dataset\n",
        "#     recent_ds = Dataset.from_pandas(df_recent, preserve_index=False)\n",
        "\n",
        "#     # Preprocess\n",
        "#     processed_input = tsp.preprocess(recent_ds)\n",
        "\n",
        "#     # Set format for PyTorch\n",
        "#     processed_input.set_format(\"torch\")\n",
        "\n",
        "#     # Run model\n",
        "#     with torch.no_grad():\n",
        "#         outputs = model.generate(processed_input)\n",
        "\n",
        "#     # Convert predictions to numpy\n",
        "#     preds = outputs.cpu().numpy().flatten()\n",
        "\n",
        "#     # Create forecast timestamps\n",
        "#     last_timestamp = df_recent[\"timestamp\"].iloc[-1]\n",
        "#     forecast_timestamps = pd.date_range(\n",
        "#         start=last_timestamp + pd.Timedelta(hours=1),\n",
        "#         periods=24,\n",
        "#         freq=\"H\"\n",
        "#     )\n",
        "\n",
        "#     # Build output DataFrame\n",
        "#     forecast_df = pd.DataFrame({\n",
        "#         \"timestamp\": forecast_timestamps,\n",
        "#         \"value\": preds  # ✅ for compatibility with estimate_from_forecast()\n",
        "#     })\n",
        "\n",
        "#     return forecast_df"
      ],
      "metadata": {
        "id": "GIuA2Uz-3fVm"
      },
      "execution_count": null,
      "outputs": []
    },
    {
      "cell_type": "code",
      "source": [
        "# def estimate_cost(values: list[float]) -> float:\n",
        "#     return sum(values) * COST_PER_KWH\n",
        "\n",
        "# def estimate_carbon(values: list[float]) -> float:\n",
        "#     return sum(values) * CARBON_PER_KWH\n",
        "\n",
        "# def estimate_from_forecast(forecast_df: pd.DataFrame) -> dict:\n",
        "#     values = forecast_df[\"forecasted_power\"].tolist()\n",
        "#     return {\n",
        "#         \"cost\": estimate_cost(values),\n",
        "#         \"carbon\": estimate_carbon(values)\n",
        "#     }\n"
      ],
      "metadata": {
        "id": "QOQIIADB3iAf"
      },
      "execution_count": null,
      "outputs": []
    },
    {
      "cell_type": "code",
      "source": [
        "# df = pd.read_csv(\"preprocessed_train.csv\", parse_dates=[\"timestamp\"])\n",
        "# df = df.rename(columns={\"target:Power\": \"value1\"})\n",
        "\n",
        "# # Filter required columns\n",
        "# df = df[[\n",
        "#     \"timestamp\", \"value1\",\n",
        "#     \"exog:IsHoliday\", \"exog:Hour\", \"exog:DayOfWeek\",\n",
        "#     \"exog:SimOccupancy\", \"exog:OutdoorTemp\", \"exog:TempDiff\"\n",
        "# ]]"
      ],
      "metadata": {
        "id": "JaN-amqpJhIq"
      },
      "execution_count": null,
      "outputs": []
    },
    {
      "cell_type": "code",
      "source": [
        "# train_ds = Dataset.from_pandas(df, preserve_index=False)\n",
        "# tsp.train(train_ds)"
      ],
      "metadata": {
        "collapsed": true,
        "id": "XjzUejuGKtll"
      },
      "execution_count": null,
      "outputs": []
    },
    {
      "cell_type": "code",
      "source": [
        "# df_recent = df.sort_values(\"timestamp\").iloc[-96:].reset_index(drop=True)"
      ],
      "metadata": {
        "id": "KyWn3j3-KtoK"
      },
      "execution_count": null,
      "outputs": []
    },
    {
      "cell_type": "code",
      "source": [
        "# forecasted_day = forecast_day(df_recent)\n",
        "# print(forecasted_day)\n",
        "\n",
        "# metrics = estimate_from_forecast(forecasted_day)\n",
        "# print(metrics)"
      ],
      "metadata": {
        "id": "63wpQH1H3jwi"
      },
      "execution_count": null,
      "outputs": []
    },
    {
      "cell_type": "code",
      "source": [
        "# print(df_recent.shape)\n",
        "# print(df_recent.isnull().sum())\n",
        "# print(df_recent.tail(3))\n"
      ],
      "metadata": {
        "id": "Dpu-coIIH6Ut"
      },
      "execution_count": null,
      "outputs": []
    },
    {
      "cell_type": "code",
      "source": [],
      "metadata": {
        "id": "RT_tUTpZK-tc"
      },
      "execution_count": null,
      "outputs": []
    },
    {
      "cell_type": "code",
      "source": [],
      "metadata": {
        "id": "kNMn8IpoLdUL"
      },
      "execution_count": null,
      "outputs": []
    }
  ]
}